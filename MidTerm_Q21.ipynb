{
 "cells": [
  {
   "cell_type": "markdown",
   "id": "126e8b56",
   "metadata": {},
   "source": [
    "# Question 21\n",
    "\n",
    "__int()__: Constructor that takes as input a pair of Point objects that represent the ends points of the line segment\n",
    "\n",
    "Length():: returns the length if the segment \n",
    "\n",
    "Slope() returns the slope of the segment of none if the slope is unbounded "
   ]
  },
  {
   "cell_type": "code",
   "execution_count": 7,
   "id": "2df4121c",
   "metadata": {},
   "outputs": [],
   "source": [
    "import math\n",
    "\n",
    "class Point:\n",
    "    def __init__(self, x=0, y=0):\n",
    "        self.x = x\n",
    "        self.y = y\n",
    "\n",
    "class Segment:\n",
    "    def __init__(self, p1, p2):\n",
    "        self.p1 = p1\n",
    "        self.p2 = p2\n",
    "\n",
    "    def length(self):\n",
    "        x1, y1 = self.p1.x, self.p1.y\n",
    "        x2, y2 = self.p2.x, self.p2.y\n",
    "        length = math.sqrt((x2 - x1)**2 + (y2 - y1)**2)\n",
    "        return length\n",
    "\n",
    "    def slope(self):\n",
    "        x1, y1 = self.p1.x, self.p1.y\n",
    "        x2, y2 = self.p2.x, self.p2.y\n",
    "\n",
    "        if x1 == x2:\n",
    "            return None  # Slope is undefined for a vertical line\n",
    "        else:\n",
    "            slope = (y2 - y1) / (x2 - x1)\n",
    "            return round(slope,2)\n",
    "\n",
    "p1 = Point(3, 4)\n",
    "p2 = Point()  # Assuming default values are (0, 0) if not specified\n",
    "s = Segment(p1, p2)\n"
   ]
  },
  {
   "cell_type": "code",
   "execution_count": 8,
   "id": "2be6e48f",
   "metadata": {},
   "outputs": [
    {
     "name": "stdout",
     "output_type": "stream",
     "text": [
      "5.0\n",
      "1.33\n"
     ]
    }
   ],
   "source": [
    "print(s.length())  \n",
    "print(s.slope()) "
   ]
  }
 ],
 "metadata": {
  "kernelspec": {
   "display_name": "Python 3 (ipykernel)",
   "language": "python",
   "name": "python3"
  },
  "language_info": {
   "codemirror_mode": {
    "name": "ipython",
    "version": 3
   },
   "file_extension": ".py",
   "mimetype": "text/x-python",
   "name": "python",
   "nbconvert_exporter": "python",
   "pygments_lexer": "ipython3",
   "version": "3.11.4"
  }
 },
 "nbformat": 4,
 "nbformat_minor": 5
}
